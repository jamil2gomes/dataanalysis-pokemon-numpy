{
 "cells": [
  {
   "cell_type": "code",
   "execution_count": 1,
   "metadata": {},
   "outputs": [],
   "source": [
    "import numpy as np"
   ]
  },
  {
   "cell_type": "markdown",
   "metadata": {},
   "source": [
    "<h1> Resolução de sistemas pela regra de Cramer </h1>\n",
    "<br>\n",
    "A regra de Cramer é aplicada quando o sistema é linear e o  <b>número de equações</b> é igual ao  <b>número de incógnitas</b>\n",
    "<br>\n",
    "Suponha o seguinte sistema de equações:<br>\n![](imgs/sistema-linear-modelo.png)"
    "<br> que escrevendo na forma matricial,<br>![](imgs/sistema-linear-modelo-matricial.jpg)<br>\n",
    "Para calcularmos os valores de x1,...,xn, em primeiro lugar é preciso calcular a determinante de A.<br> Em seguida, são montadas as matrizes dos determinantes para os cálculos de x1, x2,...,xn,  respecticamente, A1, A2,..., An.<br>![](imgs/determinantes.jpeg)<br> \n",
    "A solução do sistema é dada pelos valores de x1, x2,...,xn, que são calculados da seguinte maneira:<br>"
    "![](imgs/calculos.jpeg)<br><br>\n",
    "Em numpy esse método é resolvido da seguinte maneira:<br>"
   ]
  },
  {
   "cell_type": "code",
   "execution_count": 7,
   "metadata": {},
   "outputs": [
    {
     "name": "stdout",
     "output_type": "stream",
     "text": [
      " Resolução do sistema utilizando Regra de Crame:  [[2.]\n",
      " [4.]]\n",
      " Resolução do sistema utilizando Regra de Crame:  [[ 5.]\n",
      " [ 3.]\n",
      " [-2.]]\n"
     ]
    }
   ],
   "source": [
    "def cramer(A, b):\n",
    "    solucao = np.zeros((len(b), 1))\n",
    "    detA = round(np.linalg.det(A), 16)\n",
    "    if detA != 0:\n",
    "        for i in range(len(b)):\n",
    "            B = A.copy()\n",
    "            B[:, i] = b.transpose()\n",
    "            detB = round(np.linalg.det(B), 16)\n",
    "            solucao[i] = (detB / detA)\n",
    "    else:\n",
    "        return \"Não é possivel resolver sistema!\"\n",
    "\n",
    "    return solucao\n",
    "\n",
    "\"\"\"\n",
    "Dado o sistema:\n",
    "                 4x  + 3y = 20\n",
    "                -5x  + 9y = 26\n",
    "\"\"\"\n",
    "\n",
    "m_list = [[4, 3], [-5, 9]]\n",
    "A = np.array(m_list)\n",
    "b = np.array([20, 26])\n",
    "\n",
    "print(f' Resolução do sistema utilizando Regra de Crame:  {cramer(A, b)}')\n",
    "\n",
    "\"\"\"\n",
    "O mesmo vale para o seguinte sistema:\n",
    "                4x  + 3y + 2z =  25\n",
    "               -2x + 2y + 3z  = -10\n",
    "                3x  -5y  + 2z = -4\n",
    "\n",
    "\"\"\"\n",
    "C = np.array([[4, 3, 2], [-2, 2, 3], [3, -5, 2]])\n",
    "d = np.array([25, -10, -4])\n",
    "\n",
    "\n",
    "\n",
    "\n",
    "print(f' Resolução do sistema utilizando Regra de Crame:  {cramer(C, d)}')"
   ]
  },
  {
   "cell_type": "markdown",
   "metadata": {},
   "source": [
    "<h1>Resolução de problemas pela matriz inversa</h1>\n",
    "<br>\n",
    "A fórmula  do sistema de equação é Ax = B. Se multiplicarmos ambos os lados da equação pela inversaa de A, teremos:<br>\n",
    "<img src = \"imgs\\inversa.jpeg\"><br>\n",
    "Como <b>A-¹. A = 1</b>, a nossa expressão ficará:<br>\n",
    "<img src = \"imgs\\inversa2.jpeg\"><br>\n",
    "Por fim, temos que a inversa de  uma matriz é:<br>\n",
    "<img src = \"imgs\\inversa3.jpeg\"><br><br>\n",
    "Em numpy o seguinte método foi resolvido da seguinte maneira:\n"
   ]
  },
  {
   "cell_type": "code",
   "execution_count": 8,
   "metadata": {},
   "outputs": [
    {
     "name": "stdout",
     "output_type": "stream",
     "text": [
      " Resolução do sistema utilizando matriz inversa:  [2. 4.]\n",
      " Resolução do sistema utilizando matriz inversa:  [ 5.  3. -2.]\n"
     ]
    }
   ],
   "source": [
    "def solve(A, b):\n",
    "    return np.linalg.inv(A).dot(b)\n",
    "\n",
    "print(f' Resolução do sistema utilizando matriz inversa:  {solve(A, b)}')\n",
    "print(f' Resolução do sistema utilizando matriz inversa:  {solve(C, d)}')"
   ]
  }
 ],
 "metadata": {
  "kernelspec": {
   "display_name": "Python 3",
   "language": "python",
   "name": "python3"
  },
  "language_info": {
   "codemirror_mode": {
    "name": "ipython",
    "version": 3
   },
   "file_extension": ".py",
   "mimetype": "text/x-python",
   "name": "python",
   "nbconvert_exporter": "python",
   "pygments_lexer": "ipython3",
   "version": "3.7.3"
  }
 },
 "nbformat": 4,
 "nbformat_minor": 2
}
